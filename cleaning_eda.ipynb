{
 "cells": [
  {
   "cell_type": "code",
   "execution_count": null,
   "metadata": {},
   "outputs": [],
   "source": [
    "#imports\n",
    "import csv \n",
    "import pandas as pd\n",
    "import matplotlib.pyplot as plt\n",
    "from pathlib import Path"
   ]
  },
  {
   "cell_type": "code",
   "execution_count": null,
   "metadata": {},
   "outputs": [],
   "source": [
    "#converting log file to csv file\n",
    "\n",
    "data_folder = Path.cwd()/ \"data\"\n",
    "data_folder.mkdir(exist_ok=True)\n",
    "\n",
    "log_file = data_folder/\"04-09raw.txt\"    #log.txt or raw log txt file; format:date-raw.txt\n",
    "csv_file = data_folder/\"04-09raw.csv\"   # raw csv file format; format:date-raw.csv\n",
    "\n",
    "\n",
    "with open(log_file, 'r') as file:\n",
    "    lines = file.readlines()\n",
    "\n",
    "with open(csv_file, 'w', newline='') as csvfile:\n",
    "    csv_writer = csv.writer(csvfile, quoting=csv.QUOTE_MINIMAL)\n",
    "\n",
    "    # Write the header row (variable names)\n",
    "    header = ['second', 'distance', 'motion', 'lightIntensity', 'occupied']\n",
    "    csv_writer.writerow(header)\n",
    "\n",
    "    # Process each line in the log file\n",
    "    for line in lines:\n",
    "        # Remove extra spaces and newline characters\n",
    "        line = line.strip()\n",
    "\n",
    "        # Split the line to extract the id and variables\n",
    "        id_part, data_part = line.split(' -> ')\n",
    "        second = id_part.strip()  # Renamed from 'id' to 'second'\n",
    "\n",
    "        # Further split the data part to extract individual variable values\n",
    "        data_items = data_part.split(', ')\n",
    "        values = [second]  # Start with second\n",
    "\n",
    "        # Extract the values from each variable\n",
    "        data_dict = {item.split(': ')[0]: item.split(': ')[1].strip() for item in data_items}\n",
    "\n",
    "        # Ensure all variables are in the correct order and connected_devices is handled properly\n",
    "        values.extend([\n",
    "            data_dict.get('distance', '0.00'),\n",
    "            data_dict.get('motion', '0'),\n",
    "            data_dict.get('lightIntensity', '0.00'),\n",
    "            data_dict.get('occupied', '0')\n",
    "        ])\n",
    "\n",
    "        csv_writer.writerow(values)\n",
    "\n",
    "print(f'Conversion complete. Data saved to {csv_file}.')"
   ]
  },
  {
   "cell_type": "code",
   "execution_count": null,
   "metadata": {},
   "outputs": [],
   "source": [
    "#cleaning the data\n",
    "\n",
    "data_folder = Path.cwd()/ \"data\"\n",
    "data_folder.mkdir(exist_ok=True)\n",
    "\n",
    "csv_file = data_folder/\"04-09raw.csv\"   #raw csv file format; format:date-raw.csv\n",
    "modified_csv_file = data_folder/\"04-09clean.csv\"   #clean csv file format; format:date-clean.csv\n",
    "\n",
    "df = pd.read_csv(csv_file)\n",
    "\n",
    "# Filter out rows where distance is not greater than 0\n",
    "df = df[df[\"distance\"] > 0].copy()\n",
    "\n",
    "# Reset the 'seconds' column to increment sequentially from 1 to the length of the DataFrame\n",
    "df[\"second\"] = range(1, len(df) + 1)\n",
    "\n",
    "df.to_csv(modified_csv_file, index=False)"
   ]
  },
  {
   "cell_type": "code",
   "execution_count": null,
   "metadata": {},
   "outputs": [],
   "source": [
    "#insert values manually into occupied_note\n",
    "\n",
    "data_folder = Path.cwd() / \"data\"\n",
    "input_file = data_folder / \"04-09note.csv\"\n",
    "output_file = data_folder / \"04-09note.csv\"\n",
    "\n",
    "# Parameters to modify\n",
    "start_row = 59206      \n",
    "end_row = 89827       \n",
    "value_to_insert = 1   # 1 (in room) or 0 (not in room)\n",
    "\n",
    "df = pd.read_csv(input_file)\n",
    "\n",
    "# Create column only if it doesn't exist\n",
    "if \"occupied_note\" not in df.columns:\n",
    "    df[\"occupied_note\"] = pd.NA\n",
    "\n",
    "df.loc[start_row - 1:end_row - 1, \"occupied_note\"] = value_to_insert\n",
    "\n",
    "df.to_csv(output_file, index=False)\n"
   ]
  },
  {
   "cell_type": "code",
   "execution_count": null,
   "metadata": {},
   "outputs": [],
   "source": [
    "#appending the data to a combined csv file\n",
    "\n",
    "data_folder = Path.cwd() / \"data\"\n",
    "csv_from = data_folder / \"04-01note.csv\"\n",
    "csv_to = data_folder / \"combinedNoLK.csv\"\n",
    "\n",
    "df_from = pd.read_csv(csv_from)\n",
    "df_to = pd.read_csv(csv_to)\n",
    "\n",
    "df_combined = pd.concat([df_to, df_from], ignore_index=True)\n",
    "\n",
    "df_combined.to_csv(csv_to, index=False)\n",
    "\n",
    "print(\"Data successfully copied and appended!\")\n"
   ]
  },
  {
   "cell_type": "code",
   "execution_count": null,
   "metadata": {},
   "outputs": [],
   "source": [
    "#importing the cleaned data for analysis\n",
    "#note this is not modified_log.csv but logwNotes.csv as I have manually added occupied_notes\n",
    "data_folder = Path.cwd()/ \"data\"\n",
    "data_folder.mkdir(exist_ok=True)\n",
    "\n",
    "csv_analysis = data_folder/\"combinedNoLK.csv\" # format date-note.csv\n",
    "df = pd.read_csv(csv_analysis)"
   ]
  },
  {
   "cell_type": "code",
   "execution_count": null,
   "metadata": {},
   "outputs": [],
   "source": [
    "#plotting Distance \n",
    "plt.scatter(df['second'], df['distance'], marker='.', color='b', alpha=0.6)\n",
    "plt.title('Distance')\n",
    "plt.xlabel('second')\n",
    "plt.ylabel('distance')\n",
    "plt.show()"
   ]
  },
  {
   "cell_type": "code",
   "execution_count": null,
   "metadata": {},
   "outputs": [],
   "source": [
    "#plotting Motion\n",
    "\n",
    "plt.scatter(df['second'], df['motion'], marker='.', color='b', alpha=0.6)\n",
    "plt.title('Motion')\n",
    "plt.xlabel('second')\n",
    "plt.ylabel('motion')\n",
    "plt.show()"
   ]
  },
  {
   "cell_type": "code",
   "execution_count": null,
   "metadata": {},
   "outputs": [],
   "source": [
    "#plotting lightIntensity\n",
    "\n",
    "plt.scatter(df['second'], df['lightIntensity'], marker='.', color='b', alpha=0.6)\n",
    "plt.title('Light Intensity')\n",
    "plt.xlabel('second')\n",
    "plt.ylabel('lightIntensity')\n",
    "plt.show()"
   ]
  },
  {
   "cell_type": "code",
   "execution_count": null,
   "metadata": {},
   "outputs": [],
   "source": [
    "#plotting occupied\n",
    "\n",
    "plt.scatter(df['second'], df['occupied'], marker='.', color='b', alpha=0.6)\n",
    "plt.title('Occupied (From sub system)')\n",
    "plt.xlabel('second')\n",
    "plt.ylabel('occupied')\n",
    "plt.show() "
   ]
  },
  {
   "cell_type": "code",
   "execution_count": null,
   "metadata": {},
   "outputs": [],
   "source": [
    "#plotting occupied_note\n",
    "\n",
    "plt.scatter(df['second'], df['occupied_note'], marker='.', color='b', alpha=0.6)\n",
    "plt.title('Occupied (From Manual Notes)')\n",
    "plt.xlabel('second')\n",
    "plt.ylabel('occupied_note')\n",
    "plt.show() "
   ]
  }
 ],
 "metadata": {
  "kernelspec": {
   "display_name": "Python 3",
   "language": "python",
   "name": "python3"
  },
  "language_info": {
   "codemirror_mode": {
    "name": "ipython",
    "version": 3
   },
   "file_extension": ".py",
   "mimetype": "text/x-python",
   "name": "python",
   "nbconvert_exporter": "python",
   "pygments_lexer": "ipython3",
   "version": "3.8.10"
  }
 },
 "nbformat": 4,
 "nbformat_minor": 4
}
